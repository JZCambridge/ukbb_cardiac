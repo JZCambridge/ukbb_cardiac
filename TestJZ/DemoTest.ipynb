{
 "cells": [
  {
   "cell_type": "code",
   "execution_count": 10,
   "metadata": {},
   "outputs": [],
   "source": [
    "#checking packages\n",
    "import os\n",
    "import urllib.request\n",
    "import shutil\n",
    "import argparse\n",
    "\n",
    "CUDA_VISIBLE_DEVICES = 0\n",
    "abs_path = '/media/yingmohuanzhou/Work/CMR_Motion/ukbb_cardiac/'"
   ]
  },
  {
   "cell_type": "code",
   "execution_count": 2,
   "metadata": {},
   "outputs": [
    {
     "name": "stdout",
     "output_type": "stream",
     "text": [
      "Downloading demo images ...\n",
      "Downloading information spreadsheet ...\n",
      "Downloading trained models ...\n"
     ]
    }
   ],
   "source": [
    "# downloading necessary\n",
    "# The URL for downloading demo data\n",
    "URL = 'https://www.doc.ic.ac.uk/~wbai/data/ukbb_cardiac/'\n",
    "\n",
    "# Download demo images\n",
    "print('Downloading demo images ...')\n",
    "for i in [1, 2]:\n",
    "    if not os.path.exists('demo_image/{0}'.format(i)):\n",
    "        os.makedirs('demo_image/{0}'.format(i))\n",
    "    for seq_name in ['sa', 'la_2ch', 'la_4ch', 'ao']:\n",
    "        f = 'demo_image/{0}/{1}.nii.gz'.format(i, seq_name)\n",
    "        urllib.request.urlretrieve(URL + f, f)\n",
    "\n",
    "# Download information spreadsheet\n",
    "print('Downloading information spreadsheet ...')\n",
    "if not os.path.exists('demo_csv'):\n",
    "    os.makedirs('demo_csv')\n",
    "for f in ['demo_csv/blood_pressure_info.csv']:\n",
    "    urllib.request.urlretrieve(URL + f, f)\n",
    "\n",
    "# Download trained models\n",
    "print('Downloading trained models ...')\n",
    "if not os.path.exists('trained_model'):\n",
    "    os.makedirs('trained_model')\n",
    "for model_name in ['FCN_sa', 'FCN_la_2ch', 'FCN_la_4ch', 'FCN_la_4ch_seg4', 'UNet-LSTM_ao']:\n",
    "    for f in ['trained_model/{0}.meta'.format(model_name),\n",
    "                'trained_model/{0}.index'.format(model_name),\n",
    "                'trained_model/{0}.data-00000-of-00001'.format(model_name)]:\n",
    "        urllib.request.urlretrieve(URL + f, f)"
   ]
  },
  {
   "cell_type": "code",
   "execution_count": 3,
   "metadata": {},
   "outputs": [],
   "source": [
    "# Short axis image analysis"
   ]
  },
  {
   "cell_type": "code",
   "execution_count": null,
   "metadata": {},
   "outputs": [],
   "source": [
    "## image segmentation"
   ]
  },
  {
   "cell_type": "code",
   "execution_count": null,
   "metadata": {},
   "outputs": [],
   "source": []
  },
  {
   "cell_type": "code",
   "execution_count": 11,
   "metadata": {},
   "outputs": [
    {
     "name": "stderr",
     "output_type": "stream",
     "text": [
      "usage: ipykernel_launcher.py [-h] --seq_name SEQ_NAME --data_dir DATA_DIR\n",
      "                             --model_path MODEL_PATH\n",
      "                             [--cuda_device CUDA_DEVICE]\n",
      "ipykernel_launcher.py: error: the following arguments are required: --seq_name, --data_dir, --model_path\n"
     ]
    },
    {
     "ename": "SystemExit",
     "evalue": "2",
     "output_type": "error",
     "traceback": [
      "An exception has occurred, use %tb to see the full traceback.\n",
      "\u001b[0;31mSystemExit\u001b[0m\u001b[0;31m:\u001b[0m 2\n"
     ]
    },
    {
     "name": "stderr",
     "output_type": "stream",
     "text": [
      "/home/yingmohuanzhou/anaconda3/envs/ukbb_cardiac37/lib/python3.9/site-packages/IPython/core/interactiveshell.py:3558: UserWarning: To exit: use 'exit', 'quit', or Ctrl-D.\n",
      "  warn(\"To exit: use 'exit', 'quit', or Ctrl-D.\", stacklevel=1)\n"
     ]
    }
   ],
   "source": [
    "parser = argparse.ArgumentParser(description='Deploying the segmentation network')\n",
    "parser.add_argument('--seq_name', type=str, required=True, help='Sequence name')\n",
    "parser.add_argument('--data_dir', type=str, required=True, help='Data directory')\n",
    "parser.add_argument('--model_path', type=str, required=True, help='Path to the model')\n",
    "parser.add_argument('--cuda_device', type=str, default='', help='CUDA device to use')\n",
    "\n",
    "args = parser.parse_args()\n",
    "\n",
    "\n",
    "os.environ['CUDA_VISIBLE_DEVICES'] = args.cuda_device\n",
    "command = f\"python3 common/deploy_network.py --seq_name {args.seq_name} --data_dir {args.data_dir} --model_path {args.model_path}\"\n",
    "\n",
    "print(args)\n",
    "os.system(command)"
   ]
  },
  {
   "cell_type": "code",
   "execution_count": 14,
   "metadata": {},
   "outputs": [
    {
     "name": "stdout",
     "output_type": "stream",
     "text": [
      "CUDA_VISIBLE_DEVICES=0 python3 /media/yingmohuanzhou/Work/CMR_Motion/ukbb_cardiac/common/deploy_network.py --seq_name sa --data_dir demo_image --model_path trained_model/FCN_sa\n"
     ]
    },
    {
     "name": "stderr",
     "output_type": "stream",
     "text": [
      "Traceback (most recent call last):\n",
      "  File \"/media/yingmohuanzhou/Work/CMR_Motion/ukbb_cardiac/common/deploy_network.py\", line 19, in <module>\n",
      "    import nibabel as nib\n",
      "ModuleNotFoundError: No module named 'nibabel'\n",
      "python3: can't open file '/media/yingmohuanzhou/Work/CMR_Motion/ukbb_cardiac/TestJZ/common/deploy_network.py': [Errno 2] No such file or directory\n"
     ]
    },
    {
     "data": {
      "text/plain": [
       "512"
      ]
     },
     "execution_count": 14,
     "metadata": {},
     "output_type": "execute_result"
    }
   ],
   "source": [
    "sys = f'CUDA_VISIBLE_DEVICES={CUDA_VISIBLE_DEVICES} ' + \\\n",
    "        f'python3 ' + \\\n",
    "        f'{abs_path}common/deploy_network.py ' + \\\n",
    "        f'--seq_name sa ' + \\\n",
    "        f'--data_dir demo_image ' + \\\n",
    "        f'--model_path trained_model/FCN_sa'\n",
    "print(sys)\n",
    "os.system(sys)\n",
    "os.system('CUDA_VISIBLE_DEVICES={} python3 common/deploy_network.py --seq_name sa --data_dir demo_image '\n",
    "              '--model_path trained_model/FCN_sa'.format(CUDA_VISIBLE_DEVICES))"
   ]
  },
  {
   "cell_type": "code",
   "execution_count": null,
   "metadata": {},
   "outputs": [],
   "source": []
  },
  {
   "cell_type": "code",
   "execution_count": null,
   "metadata": {},
   "outputs": [],
   "source": []
  },
  {
   "cell_type": "code",
   "execution_count": null,
   "metadata": {},
   "outputs": [],
   "source": []
  },
  {
   "cell_type": "code",
   "execution_count": null,
   "metadata": {},
   "outputs": [],
   "source": []
  },
  {
   "cell_type": "code",
   "execution_count": null,
   "metadata": {},
   "outputs": [],
   "source": []
  },
  {
   "cell_type": "code",
   "execution_count": null,
   "metadata": {},
   "outputs": [],
   "source": []
  },
  {
   "cell_type": "code",
   "execution_count": null,
   "metadata": {},
   "outputs": [],
   "source": []
  },
  {
   "cell_type": "code",
   "execution_count": null,
   "metadata": {},
   "outputs": [],
   "source": []
  },
  {
   "cell_type": "code",
   "execution_count": null,
   "metadata": {},
   "outputs": [],
   "source": []
  },
  {
   "cell_type": "code",
   "execution_count": null,
   "metadata": {},
   "outputs": [],
   "source": []
  },
  {
   "cell_type": "code",
   "execution_count": null,
   "metadata": {},
   "outputs": [],
   "source": []
  },
  {
   "cell_type": "code",
   "execution_count": null,
   "metadata": {},
   "outputs": [],
   "source": []
  }
 ],
 "metadata": {
  "kernelspec": {
   "display_name": "ukbb_cardiac37",
   "language": "python",
   "name": "python3"
  },
  "language_info": {
   "codemirror_mode": {
    "name": "ipython",
    "version": 3
   },
   "file_extension": ".py",
   "mimetype": "text/x-python",
   "name": "python",
   "nbconvert_exporter": "python",
   "pygments_lexer": "ipython3",
   "version": "3.9.19"
  }
 },
 "nbformat": 4,
 "nbformat_minor": 2
}
